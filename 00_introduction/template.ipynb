{
 "cells": [
  {
   "cell_type": "code",
   "execution_count": 2,
   "metadata": {},
   "outputs": [
    {
     "name": "stderr",
     "output_type": "stream",
     "text": [
      "Matplotlib is building the font cache; this may take a moment.\n"
     ]
    }
   ],
   "source": [
    "import numpy as np\n",
    "import matplotlib.pyplot as plt"
   ]
  },
  {
   "cell_type": "code",
   "execution_count": 3,
   "metadata": {},
   "outputs": [],
   "source": [
    "def normal(x: np.ndarray, sigma: float, mu: float) -> np.ndarray:\n",
    "    '''\n",
    "    Returns the probability of x according to the Gaussian\n",
    "    PDF, given a standard deviation and the mean\n",
    "    '''\n",
    "    delta = np.finfo(np.float).eps\n",
    "    return np.exp(-np.power(x-mu, 2)/(2*np.power(sigma+delta, 2)))/\\\n",
    "        np.sqrt(2*np.pi*np.power(sigma+delta, 2))"
   ]
  },
  {
   "cell_type": "code",
   "execution_count": 4,
   "metadata": {},
   "outputs": [],
   "source": [
    "def plot_normal(sigma: float, mu:float, x_start: float, x_end: float):\n",
    "    xs = np.linspace(x_start, x_end, num=500)\n",
    "    plt.plot(xs, normal(xs, sigma, mu))"
   ]
  },
  {
   "cell_type": "code",
   "execution_count": 5,
   "metadata": {},
   "outputs": [
    {
     "ename": "AttributeError",
     "evalue": "module 'numpy' has no attribute 'float'.\n`np.float` was a deprecated alias for the builtin `float`. To avoid this error in existing code, use `float` by itself. Doing this will not modify any behavior and is safe. If you specifically wanted the numpy scalar type, use `np.float64` here.\nThe aliases was originally deprecated in NumPy 1.20; for more details and guidance see the original release note at:\n    https://numpy.org/devdocs/release/1.20.0-notes.html#deprecations",
     "output_type": "error",
     "traceback": [
      "\u001b[1;31m---------------------------------------------------------------------------\u001b[0m",
      "\u001b[1;31mAttributeError\u001b[0m                            Traceback (most recent call last)",
      "Cell \u001b[1;32mIn[5], line 6\u001b[0m\n\u001b[0;32m      4\u001b[0m     plot_normal(\u001b[39m1\u001b[39m, \u001b[39m1.5\u001b[39m, \u001b[39m-\u001b[39m\u001b[39m5\u001b[39m, \u001b[39m5\u001b[39m)\n\u001b[0;32m      5\u001b[0m     plt\u001b[39m.\u001b[39mshow()\n\u001b[1;32m----> 6\u001b[0m _plot_three_normals()\n",
      "Cell \u001b[1;32mIn[5], line 2\u001b[0m, in \u001b[0;36m_plot_three_normals\u001b[1;34m()\u001b[0m\n\u001b[0;32m      1\u001b[0m \u001b[39mdef\u001b[39;00m \u001b[39m_plot_three_normals\u001b[39m():\n\u001b[1;32m----> 2\u001b[0m     plot_normal(\u001b[39m0.5\u001b[39;49m, \u001b[39m0\u001b[39;49m, \u001b[39m-\u001b[39;49m\u001b[39m5\u001b[39;49m, \u001b[39m5\u001b[39;49m)\n\u001b[0;32m      3\u001b[0m     plot_normal(\u001b[39m0.25\u001b[39m, \u001b[39m1\u001b[39m, \u001b[39m-\u001b[39m\u001b[39m5\u001b[39m, \u001b[39m5\u001b[39m)\n\u001b[0;32m      4\u001b[0m     plot_normal(\u001b[39m1\u001b[39m, \u001b[39m1.5\u001b[39m, \u001b[39m-\u001b[39m\u001b[39m5\u001b[39m, \u001b[39m5\u001b[39m)\n",
      "Cell \u001b[1;32mIn[4], line 3\u001b[0m, in \u001b[0;36mplot_normal\u001b[1;34m(sigma, mu, x_start, x_end)\u001b[0m\n\u001b[0;32m      1\u001b[0m \u001b[39mdef\u001b[39;00m \u001b[39mplot_normal\u001b[39m(sigma: \u001b[39mfloat\u001b[39m, mu:\u001b[39mfloat\u001b[39m, x_start: \u001b[39mfloat\u001b[39m, x_end: \u001b[39mfloat\u001b[39m):\n\u001b[0;32m      2\u001b[0m     xs \u001b[39m=\u001b[39m np\u001b[39m.\u001b[39mlinspace(x_start, x_end, num\u001b[39m=\u001b[39m\u001b[39m500\u001b[39m)\n\u001b[1;32m----> 3\u001b[0m     plt\u001b[39m.\u001b[39mplot(xs, normal(xs, sigma, mu))\n",
      "Cell \u001b[1;32mIn[3], line 6\u001b[0m, in \u001b[0;36mnormal\u001b[1;34m(x, sigma, mu)\u001b[0m\n\u001b[0;32m      1\u001b[0m \u001b[39mdef\u001b[39;00m \u001b[39mnormal\u001b[39m(x: np\u001b[39m.\u001b[39mndarray, sigma: \u001b[39mfloat\u001b[39m, mu: \u001b[39mfloat\u001b[39m) \u001b[39m-\u001b[39m\u001b[39m>\u001b[39m np\u001b[39m.\u001b[39mndarray:\n\u001b[0;32m      2\u001b[0m \u001b[39m    \u001b[39m\u001b[39m'''\u001b[39;00m\n\u001b[0;32m      3\u001b[0m \u001b[39m    Returns the probability of x according to the Gaussian\u001b[39;00m\n\u001b[0;32m      4\u001b[0m \u001b[39m    PDF, given a standard deviation and the mean\u001b[39;00m\n\u001b[0;32m      5\u001b[0m \u001b[39m    '''\u001b[39;00m\n\u001b[1;32m----> 6\u001b[0m     delta \u001b[39m=\u001b[39m np\u001b[39m.\u001b[39mfinfo(np\u001b[39m.\u001b[39;49mfloat)\u001b[39m.\u001b[39meps\n\u001b[0;32m      7\u001b[0m     \u001b[39mreturn\u001b[39;00m np\u001b[39m.\u001b[39mexp(\u001b[39m-\u001b[39mnp\u001b[39m.\u001b[39mpower(x\u001b[39m-\u001b[39mmu, \u001b[39m2\u001b[39m)\u001b[39m/\u001b[39m(\u001b[39m2\u001b[39m\u001b[39m*\u001b[39mnp\u001b[39m.\u001b[39mpower(sigma\u001b[39m+\u001b[39mdelta, \u001b[39m2\u001b[39m)))\u001b[39m/\u001b[39m\\\n\u001b[0;32m      8\u001b[0m         np\u001b[39m.\u001b[39msqrt(\u001b[39m2\u001b[39m\u001b[39m*\u001b[39mnp\u001b[39m.\u001b[39mpi\u001b[39m*\u001b[39mnp\u001b[39m.\u001b[39mpower(sigma\u001b[39m+\u001b[39mdelta, \u001b[39m2\u001b[39m))\n",
      "File \u001b[1;32mc:\\Users\\Yann\\AppData\\Local\\Programs\\Python\\Python311\\Lib\\site-packages\\numpy\\__init__.py:319\u001b[0m, in \u001b[0;36m__getattr__\u001b[1;34m(attr)\u001b[0m\n\u001b[0;32m    314\u001b[0m     warnings\u001b[39m.\u001b[39mwarn(\n\u001b[0;32m    315\u001b[0m         \u001b[39mf\u001b[39m\u001b[39m\"\u001b[39m\u001b[39mIn the future `np.\u001b[39m\u001b[39m{\u001b[39;00mattr\u001b[39m}\u001b[39;00m\u001b[39m` will be defined as the \u001b[39m\u001b[39m\"\u001b[39m\n\u001b[0;32m    316\u001b[0m         \u001b[39m\"\u001b[39m\u001b[39mcorresponding NumPy scalar.\u001b[39m\u001b[39m\"\u001b[39m, \u001b[39mFutureWarning\u001b[39;00m, stacklevel\u001b[39m=\u001b[39m\u001b[39m2\u001b[39m)\n\u001b[0;32m    318\u001b[0m \u001b[39mif\u001b[39;00m attr \u001b[39min\u001b[39;00m __former_attrs__:\n\u001b[1;32m--> 319\u001b[0m     \u001b[39mraise\u001b[39;00m \u001b[39mAttributeError\u001b[39;00m(__former_attrs__[attr])\n\u001b[0;32m    321\u001b[0m \u001b[39mif\u001b[39;00m attr \u001b[39m==\u001b[39m \u001b[39m'\u001b[39m\u001b[39mtesting\u001b[39m\u001b[39m'\u001b[39m:\n\u001b[0;32m    322\u001b[0m     \u001b[39mimport\u001b[39;00m \u001b[39mnumpy\u001b[39;00m\u001b[39m.\u001b[39;00m\u001b[39mtesting\u001b[39;00m \u001b[39mas\u001b[39;00m \u001b[39mtesting\u001b[39;00m\n",
      "\u001b[1;31mAttributeError\u001b[0m: module 'numpy' has no attribute 'float'.\n`np.float` was a deprecated alias for the builtin `float`. To avoid this error in existing code, use `float` by itself. Doing this will not modify any behavior and is safe. If you specifically wanted the numpy scalar type, use `np.float64` here.\nThe aliases was originally deprecated in NumPy 1.20; for more details and guidance see the original release note at:\n    https://numpy.org/devdocs/release/1.20.0-notes.html#deprecations"
     ]
    }
   ],
   "source": [
    "def _plot_three_normals():\n",
    "    plot_normal(0.5, 0, -5, 5)\n",
    "    plot_normal(0.25, 1, -5, 5)\n",
    "    plot_normal(1, 1.5, -5, 5)\n",
    "    plt.show()\n",
    "_plot_three_normals()"
   ]
  },
  {
   "cell_type": "code",
   "execution_count": null,
   "metadata": {},
   "outputs": [],
   "source": []
  }
 ],
 "metadata": {
  "kernelspec": {
   "display_name": "Python 3",
   "language": "python",
   "name": "python3"
  },
  "language_info": {
   "codemirror_mode": {
    "name": "ipython",
    "version": 3
   },
   "file_extension": ".py",
   "mimetype": "text/x-python",
   "name": "python",
   "nbconvert_exporter": "python",
   "pygments_lexer": "ipython3",
   "version": "3.11.0"
  },
  "orig_nbformat": 2
 },
 "nbformat": 4,
 "nbformat_minor": 2
}
